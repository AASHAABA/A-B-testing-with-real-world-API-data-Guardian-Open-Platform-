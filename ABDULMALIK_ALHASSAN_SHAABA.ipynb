{
 "cells": [
  {
   "cell_type": "markdown",
   "id": "e3a311f3-ca50-4d1c-8ccf-e14101fff90b",
   "metadata": {},
   "source": [
    "### Name__ ABDULMALIK ALHASSAN SHAABA, School ID ALT_SOD_024_YYYY\n",
    "Link to the Document: https://drive.google.com/file/d/1_OX-S5isCxu0kr2Sp4IamS1uIEZ638gX/view?usp=sharing\n"
   ]
  },
  {
   "cell_type": "markdown",
   "id": "a92651ff-28f1-4438-857c-52767b65fc68",
   "metadata": {},
   "source": [
    "### Introduction\n",
    "In the fast-paced digital media landscape, understanding how and when content performs best is critical to audience engagement. Media platforms frequently experiment with publishing strategies to optimize reach, clicks, and reader interaction. One common approach is A/B testing, where two versions of content are compared to determine which performs better.\n",
    "This project, titled “Which Headline Works Better? A/B Testing with Real API Data,” simulates an A/B test using real-world news article data retrieved from the Guardian Open Platform API. The primary goal is to investigate whether the time of publication, specifically morning (6 AM – 12 PM) and evening (6 PM – 12 AM) affects the length of articles, which can be a proxy for editorial depth or writer effort.\n",
    "To achieve this, I:\n",
    "1. Collected and cleaned the article metadata using Python, request library and the pandas\n",
    "2. Simulated experimental groups based on time of day (Group A for morning and Group B for Evenning)\n",
    "3. Explored statistical differences using aggregation and a two-sample t-test\n",
    "4. Visualized the results to uncover patterns in publishing behavior.\n",
    "While word count is not a direct measure of article success, this analysis provides a foundation for designing more complex A/B tests using engagement metrics in future work."
   ]
  },
  {
   "cell_type": "code",
   "execution_count": 3,
   "id": "128adf1c-3b6c-4457-98cd-1da91a1d7e73",
   "metadata": {},
   "outputs": [],
   "source": [
    "# Loading the libraries to be use during the analysis\n",
    "import requests\n",
    "import numpy as np\n",
    "import pandas as pd\n",
    "import matplotlib.pyplot as plt\n",
    "import seaborn as sns\n",
    "from scipy.stats import ttest_ind"
   ]
  },
  {
   "cell_type": "markdown",
   "id": "7271c3bd-88bb-4418-8522-bc5bf52d801f",
   "metadata": {},
   "source": [
    "## Step 1: API Integration and Data Retrieval"
   ]
  },
  {
   "cell_type": "code",
   "execution_count": 6,
   "id": "d2b19579-00b1-4643-bb0a-5677a9e04077",
   "metadata": {},
   "outputs": [
    {
     "name": "stdout",
     "output_type": "stream",
     "text": [
      "                                               title  \\\n",
      "0  Shaken and stirred: Trump’s golf course liquor...   \n",
      "1  Media studies are popular, dynamic and have ‘p...   \n",
      "2  Water births do not increase risk of complicat...   \n",
      "3  One in three Asda staff have been attacked at ...   \n",
      "4                          Quick crossword No 16,879   \n",
      "\n",
      "               published_at         section  word_count  \n",
      "0 2024-06-10 23:41:28+00:00         US news         360  \n",
      "1 2024-06-10 23:01:27+00:00       Education         502  \n",
      "2 2024-06-10 23:01:27+00:00  Life and style         386  \n",
      "3 2024-06-10 23:01:27+00:00        Business         526  \n",
      "4 2024-06-10 23:00:27+00:00      Crosswords           0  \n"
     ]
    }
   ],
   "source": [
    "# API Configuration\n",
    "API_KEY = \"YYYYYYYYYYYYYYYYYYYYYYY\"  # Obtained by creating a new account with The Guardian to access their content API\n",
    "URL = 'https://content.guardianapis.com/search'  # Base URL for querying The Guardian's search API\n",
    "\n",
    "# Defining Request Parameters\n",
    "params = {\n",
    "    'api-key': API_KEY,\n",
    "    'from-date': '2024-06-01',  # Start date for article publication (helps narrow the time range)\n",
    "    'to-date': '2024-06-10',    # End date for article publication\n",
    "    'show-fields': 'headline,bodyText,wordcount',  # Specifies which extra article fields to return\n",
    "    'page-size': 200,   # Maximum number of articles per page which can be adjusted\n",
    "    'page': 1           # Page number of results (can be looped for pagination)\n",
    "}\n",
    "\n",
    "# Making API Request\n",
    "response = requests.get(URL, params=params)  # Sends GET request with defined parameters\n",
    "data = response.json()  # Parses the JSON response from the API into a Python dictionary\n",
    "\n",
    "# Normalize Nested JSON Structure into a DataFrame \n",
    "articles = pd.json_normalize(data['response']['results'])  # This flattens nested article data for easier analysis\n",
    "\n",
    "# Selecting Only Relevant Columns\n",
    "df = articles[[\n",
    "    'webTitle',\n",
    "    'webPublicationDate',\n",
    "    'sectionName',\n",
    "    'fields.wordcount'\n",
    "]].copy()  # Keeps only necessary fields for the analysis (title, date, section, and word count)\n",
    "\n",
    "# Renaming Columns for Clarity and Consistency\n",
    "df.rename(columns={\n",
    "    'webTitle': 'title',               # Renamed for simplicity\n",
    "    'webPublicationDate': 'published_at',  # More intuitive and Pythonic\n",
    "    'sectionName': 'section',          # Keeps naming consistent\n",
    "    'fields.wordcount': 'word_count'   # Matches naming convention and easier to reference in code\n",
    "}, inplace=True)\n",
    "\n",
    "# Converting Data Types for Analysis\n",
    "df['published_at'] = pd.to_datetime(df['published_at'])  # Ensures dates are in datetime format for filtering or plotting\n",
    "df['word_count'] = pd.to_numeric(df['word_count'], errors='coerce')  # Converts word count to numeric, handles non-numeric Properly\n",
    "print(df.head())  # Having a peek look into the first few rows to verify structure and values\n"
   ]
  },
  {
   "cell_type": "code",
   "execution_count": 8,
   "id": "e68af113-742b-48d1-a9c3-fc8a6fff4c17",
   "metadata": {},
   "outputs": [
    {
     "data": {
      "text/plain": [
       "200"
      ]
     },
     "execution_count": 8,
     "metadata": {},
     "output_type": "execute_result"
    }
   ],
   "source": [
    "len(df) # checking the Number of Articles i got"
   ]
  },
  {
   "cell_type": "markdown",
   "id": "97966a1c-b4cf-4bc4-b8f5-15d386c46e85",
   "metadata": {},
   "source": [
    "##  Step 2: Simulating A/B Test Groups"
   ]
  },
  {
   "cell_type": "code",
   "execution_count": 11,
   "id": "10caffcd-18ba-47fc-9f24-58231ecc0441",
   "metadata": {},
   "outputs": [
    {
     "name": "stdout",
     "output_type": "stream",
     "text": [
      "group\n",
      "A    59\n",
      "B    33\n",
      "Name: count, dtype: int64\n",
      "                                               title  hour group\n",
      "0  Shaken and stirred: Trump’s golf course liquor...    23     B\n",
      "1  Media studies are popular, dynamic and have ‘p...    23     B\n",
      "2  Water births do not increase risk of complicat...    23     B\n",
      "3  One in three Asda staff have been attacked at ...    23     B\n",
      "4                          Quick crossword No 16,879    23     B\n"
     ]
    }
   ],
   "source": [
    "# Extracting the hour from the timestamp\n",
    "df['hour'] = df['published_at'].dt.hour\n",
    "\n",
    "# Assigning groups based on hour, for morning being 6AM – 12PM and evening being 6PM – 12AM\n",
    "def assign_group(hour):\n",
    "    if 6 <= hour < 12:\n",
    "        return 'A'  # Morning\n",
    "    elif 18 <= hour < 24:\n",
    "        return 'B'  # Evening\n",
    "    else:\n",
    "        return None  # Exclude other times incase of any error that might have occured\n",
    "\n",
    "df['group'] = df['hour'].apply(assign_group)\n",
    "\n",
    "# Filter out rows not in A or B\n",
    "df_ab = df[df['group'].isin(['A', 'B'])].copy()\n",
    "\n",
    "# Peek look into the group count\n",
    "print(df_ab['group'].value_counts())\n",
    "print(df_ab[['title', 'hour', 'group']].head())\n"
   ]
  },
  {
   "cell_type": "markdown",
   "id": "d0658948-e6ef-481c-ab49-6ea4acbda949",
   "metadata": {},
   "source": [
    "### Step 3: Data Cleaning & Handling Missing Values"
   ]
  },
  {
   "cell_type": "code",
   "execution_count": 14,
   "id": "8340733c-1aab-4200-b8b3-0cec358032cc",
   "metadata": {},
   "outputs": [
    {
     "name": "stdout",
     "output_type": "stream",
     "text": [
      "title           0\n",
      "published_at    0\n",
      "section         0\n",
      "word_count      0\n",
      "hour            0\n",
      "group           0\n",
      "dtype: int64\n"
     ]
    }
   ],
   "source": [
    "# Checking for missing values\n",
    "print(df_ab.isnull().sum())\n",
    "\n",
    "# Drop rows with missing word_count (you could also fillna with median if needed)\n",
    "df_ab = df_ab.dropna(subset=['word_count'])\n",
    "\n",
    "# Convert word count to int to ease analysis\n",
    "df_ab['word_count'] = df_ab['word_count'].astype(int)\n",
    "\n",
    "# Droping duplicates by title if any\n",
    "df_ab = df_ab.drop_duplicates(subset='title')\n"
   ]
  },
  {
   "cell_type": "code",
   "execution_count": 16,
   "id": "110da250-fbc8-4b14-87e1-63743e22cbfc",
   "metadata": {},
   "outputs": [
    {
     "name": "stdout",
     "output_type": "stream",
     "text": [
      "Original: 92 articles in number\n",
      "Cleaned: 85 articles in number\n"
     ]
    }
   ],
   "source": [
    "# Checking for outliers using IQR\n",
    "Q1 = df_ab['word_count'].quantile(0.25)\n",
    "Q3 = df_ab['word_count'].quantile(0.75)\n",
    "IQR = Q3 - Q1\n",
    "lower_bound = Q1 - 1.5 * IQR\n",
    "upper_bound = Q3 + 1.5 * IQR\n",
    "\n",
    "# Filtering out outliers\n",
    "df_ab_clean = df_ab[(df_ab['word_count'] >= lower_bound) & (df_ab['word_count'] <= upper_bound)]\n",
    "\n",
    "print(f\"Original: {len(df_ab)} articles in number\")\n",
    "print(f\"Cleaned: {len(df_ab_clean)} articles in number\")\n"
   ]
  },
  {
   "cell_type": "markdown",
   "id": "7ca84b60-4034-4aef-b952-3cc8f41a0e8a",
   "metadata": {},
   "source": [
    "### Step 4: Indexing and Subsetting"
   ]
  },
  {
   "cell_type": "code",
   "execution_count": 19,
   "id": "e2e565f4-7862-4d5b-8cfc-ebe5cc50d9e7",
   "metadata": {},
   "outputs": [
    {
     "name": "stdout",
     "output_type": "stream",
     "text": [
      "Empty DataFrame\n",
      "Columns: [title, section, word_count]\n",
      "Index: []\n",
      "                                               title  \\\n",
      "0  Shaken and stirred: Trump’s golf course liquor...   \n",
      "1  Media studies are popular, dynamic and have ‘p...   \n",
      "2  Water births do not increase risk of complicat...   \n",
      "3  One in three Asda staff have been attacked at ...   \n",
      "4                          Quick crossword No 16,879   \n",
      "\n",
      "               published_at         section  word_count  hour group  \n",
      "0 2024-06-10 23:41:28+00:00         US news         360    23     B  \n",
      "1 2024-06-10 23:01:27+00:00       Education         502    23     B  \n",
      "2 2024-06-10 23:01:27+00:00  Life and style         386    23     B  \n",
      "3 2024-06-10 23:01:27+00:00        Business         526    23     B  \n",
      "4 2024-06-10 23:00:27+00:00      Crosswords           0    23     B  \n",
      "                                               title group         section  \\\n",
      "0  Shaken and stirred: Trump’s golf course liquor...     B         US news   \n",
      "1  Media studies are popular, dynamic and have ‘p...     B       Education   \n",
      "2  Water births do not increase risk of complicat...     B  Life and style   \n",
      "3  One in three Asda staff have been attacked at ...     B        Business   \n",
      "4                          Quick crossword No 16,879     B      Crosswords   \n",
      "\n",
      "   word_count  \n",
      "0         360  \n",
      "1         502  \n",
      "2         386  \n",
      "3         526  \n",
      "4           0  \n",
      "29 articles have word count greater than 800\n"
     ]
    }
   ],
   "source": [
    "# Using .loc to get all Group A articles in the 'Technology' section\n",
    "group_a_tech = df_ab_clean.loc[(df_ab_clean['group'] == 'A') & (df_ab_clean['section'] == 'Technology')]\n",
    "print(group_a_tech[['title', 'section', 'word_count']].head())\n",
    "\n",
    "# Using .iloc to get the first 5 rows\n",
    "print(df_ab_clean.iloc[:5])\n",
    "\n",
    "# Subseting to key columns only\n",
    "subset_df = df_ab_clean.loc[:, ['title', 'group', 'section', 'word_count']]\n",
    "print(subset_df.head())\n",
    "\n",
    "# Filter for word count greater than 800\n",
    "long_articles = df_ab_clean[df_ab_clean['word_count'] > 800]\n",
    "print(f\"{len(long_articles)} articles have word count greater than 800\")\n"
   ]
  },
  {
   "cell_type": "markdown",
   "id": "a435f11d-a27a-40dc-9cd9-3d0c55f48e27",
   "metadata": {},
   "source": [
    "### Step 5: Grouped Analysis & Aggregation"
   ]
  },
  {
   "cell_type": "code",
   "execution_count": 22,
   "id": "a66c1524-4edd-4478-a827-2d64e3ac9d37",
   "metadata": {},
   "outputs": [
    {
     "name": "stdout",
     "output_type": "stream",
     "text": [
      "  group  count        mean  median  min   max\n",
      "0     A     54  702.888889   735.0    0  1724\n",
      "1     B     31  635.806452   567.0    0  1238\n"
     ]
    }
   ],
   "source": [
    "# Doing some basic statistic by group to under the distribution\n",
    "group_stats = df_ab_clean.groupby('group')['word_count'].agg(['count', 'mean', 'median', 'min', 'max']).reset_index()\n",
    "print(group_stats)\n"
   ]
  },
  {
   "cell_type": "code",
   "execution_count": 24,
   "id": "f7aa14e8-3509-49f9-ad12-df88317ad20e",
   "metadata": {},
   "outputs": [
    {
     "name": "stdout",
     "output_type": "stream",
     "text": [
      "   group             section  count\n",
      "15     A             Opinion      5\n",
      "16     A            Politics      5\n",
      "2      A               Books      4\n",
      "14     A               Music      4\n",
      "1      A      Australia news      3\n",
      "6      A         Environment      3\n",
      "7      A                Film      3\n",
      "19     A               Sport      3\n",
      "24     A          World news      3\n",
      "3      A            Business      2\n",
      "9      A            Football      2\n",
      "10     A               Games      2\n",
      "12     A      Life and style      2\n",
      "13     A               Money      2\n",
      "0      A      Art and design      1\n",
      "4      A          Crosswords      1\n",
      "5      A             Culture      1\n",
      "8      A                Food      1\n",
      "11     A  Global development      1\n",
      "17     A             Science      1\n",
      "18     A             Society      1\n",
      "20     A               Stage      1\n",
      "21     A              Travel      1\n",
      "22     A             UK news      1\n",
      "23     A             US news      1\n",
      "36     B               Sport      5\n",
      "35     B            Politics      4\n",
      "40     B             US news      4\n",
      "41     B          World news      3\n",
      "27     B          Crosswords      2\n",
      "30     B            Football      2\n",
      "25     B      Australia news      1\n",
      "26     B            Business      1\n",
      "28     B           Education      1\n",
      "29     B                Film      1\n",
      "31     B      Life and style      1\n",
      "32     B               Media      1\n",
      "33     B               Music      1\n",
      "34     B                News      1\n",
      "37     B          Technology      1\n",
      "38     B  Television & radio      1\n",
      "39     B             UK news      1\n"
     ]
    }
   ],
   "source": [
    "# Checking for the most common section in each group\n",
    "most_common_sections = df_ab_clean.groupby(['group', 'section']).size().reset_index(name='count')\n",
    "most_common_sections = most_common_sections.sort_values(['group', 'count'], ascending=[True, False])\n",
    "\n",
    "print(most_common_sections.head(100))\n"
   ]
  },
  {
   "cell_type": "markdown",
   "id": "a7327b0e-0acc-43e9-9f9d-18ae99d509a8",
   "metadata": {},
   "source": [
    "### Step 6: A/B Test Execution"
   ]
  },
  {
   "cell_type": "code",
   "execution_count": 27,
   "id": "3ac7e3c7-21d4-4d0c-9351-e81904048ca1",
   "metadata": {},
   "outputs": [
    {
     "name": "stdout",
     "output_type": "stream",
     "text": [
      "T-statistic: 0.508\n",
      "P-value: 0.6132\n"
     ]
    }
   ],
   "source": [
    "# Filtering out wordless articles\n",
    "df_test = df_ab_clean[df_ab_clean['word_count'] > 0]\n",
    "\n",
    "# Separate groups\n",
    "group_a = df_test[df_test['group'] == 'A']['word_count']\n",
    "group_b = df_test[df_test['group'] == 'B']['word_count']\n",
    "\n",
    "# Run two-sample t-test\n",
    "t_stat, p_val = ttest_ind(group_a, group_b, equal_var=False)  # Welch's t-test\n",
    "\n",
    "print(f\"T-statistic: {t_stat:.3f}\")\n",
    "print(f\"P-value: {p_val:.4f}\")\n"
   ]
  },
  {
   "cell_type": "markdown",
   "id": "5172e23b-38de-4e8a-ad83-28055480e0e5",
   "metadata": {},
   "source": [
    "### Step 7: Visualization & Final Insights"
   ]
  },
  {
   "cell_type": "code",
   "execution_count": 30,
   "id": "cbdc1294-48e3-46d8-a69f-e84239cb0b02",
   "metadata": {},
   "outputs": [
    {
     "name": "stderr",
     "output_type": "stream",
     "text": [
      "C:\\Users\\Admin\\AppData\\Local\\Temp\\ipykernel_13896\\475904696.py:2: FutureWarning: \n",
      "\n",
      "Passing `palette` without assigning `hue` is deprecated and will be removed in v0.14.0. Assign the `x` variable to `hue` and set `legend=False` for the same effect.\n",
      "\n",
      "  sns.boxplot(data=df_test, x='group', y='word_count', palette='pastel')\n"
     ]
    },
    {
     "data": {
      "image/png": "[encoded data removed]",
      "text/plain": [
       "<Figure size 800x500 with 1 Axes>"
      ]
     },
     "metadata": {},
     "output_type": "display_data"
    }
   ],
   "source": [
    "plt.figure(figsize=(8, 5))\n",
    "sns.boxplot(data=df_test, x='group', y='word_count', palette='pastel')\n",
    "plt.title('Article Word Count by Group (Morning vs Evening)')\n",
    "plt.xlabel('Group')\n",
    "plt.ylabel('Word Count')\n",
    "plt.grid(True, axis='y')\n",
    "plt.show()\n"
   ]
  },
  {
   "cell_type": "code",
   "execution_count": 32,
   "id": "4b36f0fe-6c3d-40be-8c6e-9025e2bdca2a",
   "metadata": {},
   "outputs": [
    {
     "data": {
      "image/png": "[encoded data removed]",
      "text/plain": [
       "<Figure size 1000x600 with 1 Axes>"
      ]
     },
     "metadata": {},
     "output_type": "display_data"
    }
   ],
   "source": [
    "top_sections = (\n",
    "    df_test.groupby(['group', 'section'])\n",
    "    .size()\n",
    "    .reset_index(name='count')\n",
    "    .sort_values(['group', 'count'], ascending=[True, False])\n",
    "    .groupby('group')\n",
    "    .head(5)\n",
    ")\n",
    "\n",
    "plt.figure(figsize=(10, 6))\n",
    "sns.barplot(data=top_sections, x='section', y='count', hue='group', palette='Set2')\n",
    "plt.title('Top 5 Sections by Group')\n",
    "plt.xlabel('Section')\n",
    "plt.ylabel('Number of Articles')\n",
    "plt.xticks(rotation=45)\n",
    "plt.tight_layout()\n",
    "plt.show()\n"
   ]
  },
  {
   "cell_type": "code",
   "execution_count": null,
   "id": "6a389477-f933-42c1-9295-1b3cd3a3a017",
   "metadata": {},
   "outputs": [],
   "source": []
  },
  {
   "cell_type": "code",
   "execution_count": null,
   "id": "c26de66b-314c-4c61-8269-8d98fa748d49",
   "metadata": {},
   "outputs": [],
   "source": []
  },
  {
   "cell_type": "markdown",
   "id": "0b2bbf63-3456-4386-87fe-45976b42dae9",
   "metadata": {},
   "source": [
    "#### Final Summary & Recommendation\n",
    "\n",
    "Summary of Findings\n",
    "Data Overview:\n",
    "Total articles pulled: 200\n",
    "Articles after filtering by time: 92\n",
    "After cleaning (missing values, outliers removed): 85 articles\n",
    "Group A (Morning): 54 articles\n",
    "Group B (Evening): 31 articles\n",
    "\n",
    "\n",
    "\n",
    "STATISTICS\n",
    "\n",
    "Metric\t             Group A (Morning)\t            Group B (Evening)\n",
    "Mean Word Count\t     703 words\t                    636 words\n",
    "Median Word Count\t 735 words\t                    567 words\n",
    "Max Word Count\t     1,724\t                        1,238\n",
    "\n",
    "It was observed that group A articles are generally longer than Group B, on average and group A also featured more editorial style content (e.g., Opinion, Politics), while Group B leaned toward Sport and World news.\n",
    "\n",
    "A/B Test (T-test)\n",
    "Null Hypothesis: No difference in article length between morning and evening posts.\n",
    "P-value: 0.6132\n",
    "Interpretation: Not statistically significant (p > 0.05). The observed differences could be due to chance.\n",
    "\n",
    "Visual Insights:\n",
    "Box Plot: Morning articles (Group A) show slightly higher median word counts, but there is significant overlap and variability in both groups.\n",
    "Bar Chart: Top sections differ by group:\n",
    "Group A: Editorial content (Opinion, Politics, Books)\n",
    "Group B: News and Sports coverage (Sport, US News, World News)\n",
    "\n",
    "Recommendation\n",
    "Although Group A articles were slightly longer, our statistical test shows no significant difference in article word count between morning and evening publications. Therefore, the platform should not rely on time-of-day alone to influence article strategy, insteadvconsider testing other variables like headline sentiment, readability score, or topic type for more impactful A/B experiments.\n",
    "Also, if the future data can includes engagement metrics such as shares and clicks, that could offer a more reliable outcome variable than just word count."
   ]
  },
  {
   "cell_type": "code",
   "execution_count": null,
   "id": "056856de-6f8d-4b6c-9806-a989021790e3",
   "metadata": {},
   "outputs": [],
   "source": []
  },
  {
   "cell_type": "code",
   "execution_count": null,
   "id": "49f0ab41-5376-416f-aacf-7584332efd66",
   "metadata": {},
   "outputs": [],
   "source": []
  },
  {
   "cell_type": "code",
   "execution_count": null,
   "id": "75c4df68-63d5-426c-9042-bd028da80e53",
   "metadata": {},
   "outputs": [],
   "source": []
  },
  {
   "cell_type": "code",
   "execution_count": null,
   "id": "8914d1eb-b55e-4d0c-80f3-7272dce75d1a",
   "metadata": {},
   "outputs": [],
   "source": []
  }
 ],
 "metadata": {
  "kernelspec": {
   "display_name": "Python 3 (ipykernel)",
   "language": "python",
   "name": "python3"
  },
  "language_info": {
   "codemirror_mode": {
    "name": "ipython",
    "version": 3
   },
   "file_extension": ".py",
   "mimetype": "text/x-python",
   "name": "python",
   "nbconvert_exporter": "python",
   "pygments_lexer": "ipython3",
   "version": "3.12.7"
  }
 },
 "nbformat": 4,
 "nbformat_minor": 5
}
